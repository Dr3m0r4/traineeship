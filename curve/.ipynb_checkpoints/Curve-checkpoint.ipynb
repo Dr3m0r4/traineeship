{
 "cells": [
  {
   "cell_type": "markdown",
   "metadata": {},
   "source": [
    "# Curve for different learning rate\n",
    "\n",
    "This notebook display the evolution of the loss function of different methods.\n",
    "\n",
    "## Import"
   ]
  },
  {
   "cell_type": "code",
   "execution_count": null,
   "metadata": {},
   "outputs": [],
   "source": [
    "import os\n",
    "import numpy as np\n",
    "import matplotlib.pyplot as plt\n",
    "import pandas as pd"
   ]
  },
  {
   "cell_type": "markdown",
   "metadata": {},
   "source": [
    "## Switcher"
   ]
  },
  {
   "cell_type": "code",
   "execution_count": null,
   "metadata": {},
   "outputs": [],
   "source": [
    "class CSV():\n",
    "    def __init__(self):\n",
    "        self.switch = {}\n",
    "        self.list_name = []\n",
    "    \n",
    "    def set(self, name:str):\n",
    "        nom = name.split('.')\n",
    "        if nom[1]=='csv':\n",
    "            kappa = nom[0].split('/')[-1]\n",
    "            self.switch[kappa] = pd.read_csv(name)\n",
    "            self.list_name.append(kappa)"
   ]
  },
  {
   "cell_type": "markdown",
   "metadata": {},
   "source": [
    "## Reading"
   ]
  },
  {
   "cell_type": "code",
   "execution_count": null,
   "metadata": {},
   "outputs": [],
   "source": [
    "number = str(input(\"Please enter the folder you want to analyse : \"))\n",
    "path = os.path.join(\"/home/julien/traineeship/curve/{}\".format(number))\n",
    "csv = CSV()\n",
    "csv_name = os.listdir(path)\n",
    "\n",
    "for name in csv_name:\n",
    "    csv.set(os.path.join(path, name))"
   ]
  },
  {
   "cell_type": "markdown",
   "metadata": {},
   "source": [
    "## Plot"
   ]
  },
  {
   "cell_type": "code",
   "execution_count": null,
   "metadata": {},
   "outputs": [],
   "source": [
    "plt.figure()\n",
    "for lab in csv.list_name:\n",
    "    plt.plot(csv.switch.get(lab)['Step'], csv.switch.get(lab)['Value'], label=lab)\n",
    "plt.title(\"Curve of loss function\")\n",
    "plt.xlabel(\"Iterations\")\n",
    "plt.ylabel(\"Loss Function\")\n",
    "plt.legend()\n",
    "plt.savefig(os.path.join(path, \"fig.eps\"))"
   ]
  }
 ],
 "metadata": {
  "kernelspec": {
   "display_name": "niftynet",
   "language": "python",
   "name": "niftynet"
  },
  "language_info": {
   "codemirror_mode": {
    "name": "ipython",
    "version": 3
   },
   "file_extension": ".py",
   "mimetype": "text/x-python",
   "name": "python",
   "nbconvert_exporter": "python",
   "pygments_lexer": "ipython3",
   "version": "3.7.3"
  }
 },
 "nbformat": 4,
 "nbformat_minor": 2
}
